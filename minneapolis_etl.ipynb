{
 "cells": [
  {
   "cell_type": "code",
   "execution_count": 1,
   "metadata": {},
   "outputs": [
    {
     "ename": "ModuleNotFoundError",
     "evalue": "No module named 'config'",
     "output_type": "error",
     "traceback": [
      "\u001b[1;31m---------------------------------------------------------------------------\u001b[0m",
      "\u001b[1;31mModuleNotFoundError\u001b[0m                       Traceback (most recent call last)",
      "\u001b[1;32m<ipython-input-1-aafde2337263>\u001b[0m in \u001b[0;36m<module>\u001b[1;34m\u001b[0m\n\u001b[0;32m      2\u001b[0m \u001b[1;32mimport\u001b[0m \u001b[0mpandas\u001b[0m \u001b[1;32mas\u001b[0m \u001b[0mpd\u001b[0m\u001b[1;33m\u001b[0m\u001b[1;33m\u001b[0m\u001b[0m\n\u001b[0;32m      3\u001b[0m \u001b[1;32mfrom\u001b[0m \u001b[0msqlalchemy\u001b[0m \u001b[1;32mimport\u001b[0m \u001b[0mcreate_engine\u001b[0m\u001b[1;33m\u001b[0m\u001b[1;33m\u001b[0m\u001b[0m\n\u001b[1;32m----> 4\u001b[1;33m \u001b[1;32mfrom\u001b[0m \u001b[0mconfig\u001b[0m \u001b[1;32mimport\u001b[0m \u001b[0mpw\u001b[0m\u001b[1;33m\u001b[0m\u001b[1;33m\u001b[0m\u001b[0m\n\u001b[0m\u001b[0;32m      5\u001b[0m \u001b[1;32mimport\u001b[0m \u001b[0mos\u001b[0m\u001b[1;33m\u001b[0m\u001b[1;33m\u001b[0m\u001b[0m\n",
      "\u001b[1;31mModuleNotFoundError\u001b[0m: No module named 'config'"
     ]
    }
   ],
   "source": [
    "# dependencies go here\n",
    "import pandas as pd\n",
    "from sqlalchemy import create_engine\n",
    "# from config import pw\n",
    "import os"
   ]
  },
  {
   "cell_type": "markdown",
   "metadata": {},
   "source": [
    "## set up database"
   ]
  },
  {
   "cell_type": "markdown",
   "metadata": {},
   "source": [
    "We set up the `minneapolis_housing` database and related tables in Postgresql:\n",
    "\n",
    "* `neighborhood`\n",
    "* `home_value`\n",
    "* `crime`\n",
    "\n",
    "Code for setting up the tables can be found in the queries.sql file accompanying this notebook.\n",
    "\n",
    "**Note: Refactor this to work with SQLAlchemy, if time permits**"
   ]
  },
  {
   "cell_type": "markdown",
   "metadata": {},
   "source": [
    "## load data\n",
    "### Neighborhood datasets"
   ]
  },
  {
   "cell_type": "code",
   "execution_count": null,
   "metadata": {},
   "outputs": [],
   "source": [
    "# Stacy start"
   ]
  },
  {
   "cell_type": "code",
   "execution_count": null,
   "metadata": {},
   "outputs": [],
   "source": [
    "# Load Minneapolis city dataset for neighborhoods\n",
    "n_path = os.path.join('.', 'data', 'Minneapolis_Neighborhoods.csv')\n",
    "neighborhood = pd.read_csv(n_path)\n",
    "neighborhood_df = neighborhood[['FID', 'BDNAME']].copy()\n",
    "neighborhood_df.rename(columns={\n",
    "    'FID': 'id',\n",
    "    'BDNAME': 'neighborhood'\n",
    "}, inplace=True)\n",
    "\n",
    "'''\n",
    "NOTES:\n",
    "Noticed there wasn't a codebook that explained what the cryptic column names mean, so used FID based on the fact\n",
    "that it is a unique ID.\n",
    "'''\n",
    "neighborhood_df.head()"
   ]
  },
  {
   "cell_type": "code",
   "execution_count": null,
   "metadata": {},
   "outputs": [],
   "source": [
    "# Load Minneapolis neighborhood census dataset \n",
    "census_path = os.path.join('.', 'data', 'census_2010.xls')\n",
    "census = pd.read_excel(census_path, header=None)\n",
    "census_df = census.iloc[6:, :2]\n",
    "census_df.rename(columns={\n",
    "    0: 'neighborhood',\n",
    "    1: 'population_2010'\n",
    "}, inplace=True)\n",
    "census_df.head()"
   ]
  },
  {
   "cell_type": "code",
   "execution_count": null,
   "metadata": {},
   "outputs": [],
   "source": [
    "# merge the dfs together into one neighborhood df\n",
    "neighborhoods = neighborhood_df.merge(census_df, how='outer', on='neighborhood')\n",
    "neighborhoods.head()"
   ]
  },
  {
   "cell_type": "code",
   "execution_count": null,
   "metadata": {},
   "outputs": [],
   "source": [
    "# Check dataframe for null values\n",
    "\n",
    "mask = pd.isnull(neighborhoods.id)\n",
    "print(neighborhoods[mask])\n",
    "\n",
    "mask = pd.isnull(neighborhoods.population_2010)\n",
    "print(neighborhoods[mask])\n",
    "\n",
    "# No population data for South Uptown (44) or Kenwood (74)\n",
    "# No ids for CARAG (87) or Kenwood (88)"
   ]
  },
  {
   "cell_type": "code",
   "execution_count": null,
   "metadata": {},
   "outputs": [],
   "source": [
    "# deal with null values \n",
    "\n",
    "# Kenwood (74) should be updated with Kenwood (88)'s pop data \n",
    "neighborhoods.loc[73, 'population_2010'] = neighborhoods.loc[88, 'population_2010']\n",
    "neighborhoods.tail(20)\n",
    "\n",
    "# create id for CARAG (87)\n",
    "neighborhoods.loc[87, 'id'] = '88'\n",
    "\n",
    "# Drop rows 88, 89\n",
    "neighborhoods.drop([88,89], inplace=True)"
   ]
  },
  {
   "cell_type": "code",
   "execution_count": null,
   "metadata": {},
   "outputs": [],
   "source": [
    "# Stacy end"
   ]
  },
  {
   "cell_type": "code",
   "execution_count": null,
   "metadata": {},
   "outputs": [],
   "source": [
    "# Jenna start\n",
    "#Load Assessors Parcel Data 2019 CSV & Create dataframe\n",
    "csv_file = \"data/Assessors_Parcel_Data_2019.csv\"\n",
    "assessors_df = pd.read_csv(csv_file)\n",
    "assessors_df.head()"
   ]
  },
  {
   "cell_type": "code",
   "execution_count": null,
   "metadata": {},
   "outputs": [],
   "source": [
    "#Create a new dataframe with select columns\n",
    "assessors_parcel_df = assessors_df[['NEIGHBORHOOD', \n",
    "                                    'FORMATTED_ADDRESS',\n",
    "                                   'PROPERTY_TYPE',\n",
    "                                   'LANDUSE',\n",
    "                                   'TOTALVALUE',\n",
    "                                   'BELOWGROUNDAREA',\n",
    "                                   'ABOVEGROUNDAREA',\n",
    "                                   'BEDROOMS',\n",
    "                                   'PARCEL_AREA_SQFT',\n",
    "                                   'X',\n",
    "                                   'Y']]\n",
    "assessors_parcel_df.head()"
   ]
  },
  {
   "cell_type": "code",
   "execution_count": null,
   "metadata": {},
   "outputs": [],
   "source": [
    "#Rename columns"
   ]
  },
  {
   "cell_type": "code",
   "execution_count": null,
   "metadata": {},
   "outputs": [],
   "source": [
    "#Filter out property types that are not residential"
   ]
  },
  {
   "cell_type": "code",
   "execution_count": null,
   "metadata": {},
   "outputs": [],
   "source": [
    "#Calculated Columns"
   ]
  },
  {
   "cell_type": "code",
   "execution_count": null,
   "metadata": {},
   "outputs": [],
   "source": [
    "# Jenna end"
   ]
  },
  {
   "cell_type": "code",
   "execution_count": 2,
   "metadata": {},
   "outputs": [
    {
     "data": {
      "text/html": [
       "<div>\n",
       "<style scoped>\n",
       "    .dataframe tbody tr th:only-of-type {\n",
       "        vertical-align: middle;\n",
       "    }\n",
       "\n",
       "    .dataframe tbody tr th {\n",
       "        vertical-align: top;\n",
       "    }\n",
       "\n",
       "    .dataframe thead th {\n",
       "        text-align: right;\n",
       "    }\n",
       "</style>\n",
       "<table border=\"1\" class=\"dataframe\">\n",
       "  <thead>\n",
       "    <tr style=\"text-align: right;\">\n",
       "      <th></th>\n",
       "      <th>X</th>\n",
       "      <th>Y</th>\n",
       "      <th>publicaddress</th>\n",
       "      <th>caseNumber</th>\n",
       "      <th>precinct</th>\n",
       "      <th>reportedDate</th>\n",
       "      <th>reportedTime</th>\n",
       "      <th>beginDate</th>\n",
       "      <th>reportedDateTime</th>\n",
       "      <th>beginTime</th>\n",
       "      <th>...</th>\n",
       "      <th>enteredDate</th>\n",
       "      <th>centergbsid</th>\n",
       "      <th>centerLong</th>\n",
       "      <th>centerLat</th>\n",
       "      <th>centerX</th>\n",
       "      <th>centerY</th>\n",
       "      <th>neighborhood</th>\n",
       "      <th>lastchanged</th>\n",
       "      <th>LastUpdateDateETL</th>\n",
       "      <th>OBJECTID</th>\n",
       "    </tr>\n",
       "  </thead>\n",
       "  <tbody>\n",
       "    <tr>\n",
       "      <td>0</td>\n",
       "      <td>-93.277816</td>\n",
       "      <td>44.961796</td>\n",
       "      <td>0020XX NICOLLET AVE</td>\n",
       "      <td>MP2019703050</td>\n",
       "      <td>5</td>\n",
       "      <td>2019-06-06T00:00:00.000Z</td>\n",
       "      <td>1253</td>\n",
       "      <td>2019-06-06T00:00:00.000Z</td>\n",
       "      <td>2019-06-06T12:53:00.000Z</td>\n",
       "      <td>1100</td>\n",
       "      <td>...</td>\n",
       "      <td>2019-06-07T00:00:00.000Z</td>\n",
       "      <td>18036.0</td>\n",
       "      <td>-93.277819</td>\n",
       "      <td>44.961801</td>\n",
       "      <td>-10383639</td>\n",
       "      <td>5615509</td>\n",
       "      <td>Whittier</td>\n",
       "      <td>2019-06-07T00:00:00.000Z</td>\n",
       "      <td>2019-07-25T14:36:02.000Z</td>\n",
       "      <td>7001</td>\n",
       "    </tr>\n",
       "    <tr>\n",
       "      <td>1</td>\n",
       "      <td>-93.230744</td>\n",
       "      <td>45.008673</td>\n",
       "      <td>0019XX CLEVELAND ST NE</td>\n",
       "      <td>MP2019703051</td>\n",
       "      <td>2</td>\n",
       "      <td>2019-06-06T00:00:00.000Z</td>\n",
       "      <td>1321</td>\n",
       "      <td>2019-06-06T00:00:00.000Z</td>\n",
       "      <td>2019-06-06T13:21:00.000Z</td>\n",
       "      <td>100</td>\n",
       "      <td>...</td>\n",
       "      <td>2019-06-07T00:00:00.000Z</td>\n",
       "      <td>17223.0</td>\n",
       "      <td>-93.230748</td>\n",
       "      <td>45.008675</td>\n",
       "      <td>-10378399</td>\n",
       "      <td>5622887</td>\n",
       "      <td>Windom Park</td>\n",
       "      <td>2019-06-07T00:00:00.000Z</td>\n",
       "      <td>2019-07-25T14:36:02.000Z</td>\n",
       "      <td>7002</td>\n",
       "    </tr>\n",
       "    <tr>\n",
       "      <td>2</td>\n",
       "      <td>-93.258925</td>\n",
       "      <td>44.962711</td>\n",
       "      <td>0010XX FRANKLIN AVE E</td>\n",
       "      <td>MP2019703054</td>\n",
       "      <td>3</td>\n",
       "      <td>2019-06-06T00:00:00.000Z</td>\n",
       "      <td>1423</td>\n",
       "      <td>2019-06-05T00:00:00.000Z</td>\n",
       "      <td>2019-06-06T14:23:00.000Z</td>\n",
       "      <td>1200</td>\n",
       "      <td>...</td>\n",
       "      <td>2019-06-07T00:00:00.000Z</td>\n",
       "      <td>16490.0</td>\n",
       "      <td>-93.258926</td>\n",
       "      <td>44.962713</td>\n",
       "      <td>-10381536</td>\n",
       "      <td>5615653</td>\n",
       "      <td>Ventura Village</td>\n",
       "      <td>2019-06-07T00:00:00.000Z</td>\n",
       "      <td>2019-07-25T14:36:02.000Z</td>\n",
       "      <td>7003</td>\n",
       "    </tr>\n",
       "    <tr>\n",
       "      <td>3</td>\n",
       "      <td>-93.273549</td>\n",
       "      <td>44.986948</td>\n",
       "      <td>NaN</td>\n",
       "      <td>MP2019703057</td>\n",
       "      <td>1</td>\n",
       "      <td>2019-06-06T00:00:00.000Z</td>\n",
       "      <td>1456</td>\n",
       "      <td>2019-06-02T00:00:00.000Z</td>\n",
       "      <td>2019-06-06T14:56:00.000Z</td>\n",
       "      <td>1745</td>\n",
       "      <td>...</td>\n",
       "      <td>2019-06-07T00:00:00.000Z</td>\n",
       "      <td>NaN</td>\n",
       "      <td>-93.273560</td>\n",
       "      <td>44.986950</td>\n",
       "      <td>-10383164</td>\n",
       "      <td>5619467</td>\n",
       "      <td>North Loop</td>\n",
       "      <td>2019-06-07T00:00:00.000Z</td>\n",
       "      <td>2019-07-25T14:36:02.000Z</td>\n",
       "      <td>7004</td>\n",
       "    </tr>\n",
       "    <tr>\n",
       "      <td>4</td>\n",
       "      <td>-93.290330</td>\n",
       "      <td>44.971990</td>\n",
       "      <td>0008XX DUNWOODY BLVD</td>\n",
       "      <td>MP2019703058</td>\n",
       "      <td>5</td>\n",
       "      <td>2019-06-06T00:00:00.000Z</td>\n",
       "      <td>1520</td>\n",
       "      <td>2019-06-06T00:00:00.000Z</td>\n",
       "      <td>2019-06-06T15:20:00.000Z</td>\n",
       "      <td>950</td>\n",
       "      <td>...</td>\n",
       "      <td>2019-06-07T00:00:00.000Z</td>\n",
       "      <td>16056.0</td>\n",
       "      <td>-93.290335</td>\n",
       "      <td>44.971991</td>\n",
       "      <td>-10385032</td>\n",
       "      <td>5617113</td>\n",
       "      <td>Lowry Hill</td>\n",
       "      <td>2019-06-07T00:00:00.000Z</td>\n",
       "      <td>2019-07-25T14:36:02.000Z</td>\n",
       "      <td>7005</td>\n",
       "    </tr>\n",
       "  </tbody>\n",
       "</table>\n",
       "<p>5 rows × 23 columns</p>\n",
       "</div>"
      ],
      "text/plain": [
       "           X          Y           publicaddress            caseNumber  \\\n",
       "0 -93.277816  44.961796    0020XX NICOLLET AVE   MP2019703050           \n",
       "1 -93.230744  45.008673  0019XX CLEVELAND ST NE  MP2019703051           \n",
       "2 -93.258925  44.962711   0010XX FRANKLIN AVE E  MP2019703054           \n",
       "3 -93.273549  44.986948                     NaN  MP2019703057           \n",
       "4 -93.290330  44.971990   0008XX DUNWOODY BLVD   MP2019703058           \n",
       "\n",
       "  precinct              reportedDate  reportedTime                 beginDate  \\\n",
       "0   5       2019-06-06T00:00:00.000Z          1253  2019-06-06T00:00:00.000Z   \n",
       "1   2       2019-06-06T00:00:00.000Z          1321  2019-06-06T00:00:00.000Z   \n",
       "2   3       2019-06-06T00:00:00.000Z          1423  2019-06-05T00:00:00.000Z   \n",
       "3   1       2019-06-06T00:00:00.000Z          1456  2019-06-02T00:00:00.000Z   \n",
       "4   5       2019-06-06T00:00:00.000Z          1520  2019-06-06T00:00:00.000Z   \n",
       "\n",
       "           reportedDateTime  beginTime  ...               enteredDate  \\\n",
       "0  2019-06-06T12:53:00.000Z       1100  ...  2019-06-07T00:00:00.000Z   \n",
       "1  2019-06-06T13:21:00.000Z        100  ...  2019-06-07T00:00:00.000Z   \n",
       "2  2019-06-06T14:23:00.000Z       1200  ...  2019-06-07T00:00:00.000Z   \n",
       "3  2019-06-06T14:56:00.000Z       1745  ...  2019-06-07T00:00:00.000Z   \n",
       "4  2019-06-06T15:20:00.000Z        950  ...  2019-06-07T00:00:00.000Z   \n",
       "\n",
       "  centergbsid  centerLong  centerLat   centerX  centerY     neighborhood  \\\n",
       "0     18036.0  -93.277819  44.961801 -10383639  5615509         Whittier   \n",
       "1     17223.0  -93.230748  45.008675 -10378399  5622887      Windom Park   \n",
       "2     16490.0  -93.258926  44.962713 -10381536  5615653  Ventura Village   \n",
       "3         NaN  -93.273560  44.986950 -10383164  5619467       North Loop   \n",
       "4     16056.0  -93.290335  44.971991 -10385032  5617113       Lowry Hill   \n",
       "\n",
       "                lastchanged         LastUpdateDateETL OBJECTID  \n",
       "0  2019-06-07T00:00:00.000Z  2019-07-25T14:36:02.000Z     7001  \n",
       "1  2019-06-07T00:00:00.000Z  2019-07-25T14:36:02.000Z     7002  \n",
       "2  2019-06-07T00:00:00.000Z  2019-07-25T14:36:02.000Z     7003  \n",
       "3  2019-06-07T00:00:00.000Z  2019-07-25T14:36:02.000Z     7004  \n",
       "4  2019-06-07T00:00:00.000Z  2019-07-25T14:36:02.000Z     7005  \n",
       "\n",
       "[5 rows x 23 columns]"
      ]
     },
     "execution_count": 2,
     "metadata": {},
     "output_type": "execute_result"
    }
   ],
   "source": [
    "# Katrina start\n",
    "#Loading data for police incidents and creating a dataframe for the data\n",
    "csv_file = \"data/Police_Incidents_2019.csv\"\n",
    "police_incidents_df = pd.read_csv(csv_file)\n",
    "police_incidents_df.head()"
   ]
  },
  {
   "cell_type": "code",
   "execution_count": 6,
   "metadata": {},
   "outputs": [
    {
     "data": {
      "text/html": [
       "<div>\n",
       "<style scoped>\n",
       "    .dataframe tbody tr th:only-of-type {\n",
       "        vertical-align: middle;\n",
       "    }\n",
       "\n",
       "    .dataframe tbody tr th {\n",
       "        vertical-align: top;\n",
       "    }\n",
       "\n",
       "    .dataframe thead th {\n",
       "        text-align: right;\n",
       "    }\n",
       "</style>\n",
       "<table border=\"1\" class=\"dataframe\">\n",
       "  <thead>\n",
       "    <tr style=\"text-align: right;\">\n",
       "      <th></th>\n",
       "      <th>description</th>\n",
       "      <th>neighborhood</th>\n",
       "      <th>X</th>\n",
       "      <th>Y</th>\n",
       "    </tr>\n",
       "  </thead>\n",
       "  <tbody>\n",
       "    <tr>\n",
       "      <td>0</td>\n",
       "      <td>OTHER THEFT</td>\n",
       "      <td>Whittier</td>\n",
       "      <td>-93.277816</td>\n",
       "      <td>44.961796</td>\n",
       "    </tr>\n",
       "    <tr>\n",
       "      <td>1</td>\n",
       "      <td>THEFT FROM MOTR VEHC</td>\n",
       "      <td>Windom Park</td>\n",
       "      <td>-93.230744</td>\n",
       "      <td>45.008673</td>\n",
       "    </tr>\n",
       "    <tr>\n",
       "      <td>2</td>\n",
       "      <td>THEFT FROM MOTR VEHC</td>\n",
       "      <td>Ventura Village</td>\n",
       "      <td>-93.258925</td>\n",
       "      <td>44.962711</td>\n",
       "    </tr>\n",
       "    <tr>\n",
       "      <td>3</td>\n",
       "      <td>BIKE THEFT</td>\n",
       "      <td>North Loop</td>\n",
       "      <td>-93.273549</td>\n",
       "      <td>44.986948</td>\n",
       "    </tr>\n",
       "    <tr>\n",
       "      <td>4</td>\n",
       "      <td>THEFT FROM MOTR VEHC</td>\n",
       "      <td>Lowry Hill</td>\n",
       "      <td>-93.290330</td>\n",
       "      <td>44.971990</td>\n",
       "    </tr>\n",
       "    <tr>\n",
       "      <td>...</td>\n",
       "      <td>...</td>\n",
       "      <td>...</td>\n",
       "      <td>...</td>\n",
       "      <td>...</td>\n",
       "    </tr>\n",
       "    <tr>\n",
       "      <td>26469</td>\n",
       "      <td>THEFT-MOTR VEH PARTS</td>\n",
       "      <td>Powderhorn Park</td>\n",
       "      <td>-93.257487</td>\n",
       "      <td>44.938648</td>\n",
       "    </tr>\n",
       "    <tr>\n",
       "      <td>26470</td>\n",
       "      <td>OTHER THEFT</td>\n",
       "      <td>Ventura Village</td>\n",
       "      <td>-93.262563</td>\n",
       "      <td>44.960010</td>\n",
       "    </tr>\n",
       "    <tr>\n",
       "      <td>26471</td>\n",
       "      <td>OTHER THEFT</td>\n",
       "      <td>CARAG</td>\n",
       "      <td>-93.290006</td>\n",
       "      <td>44.948363</td>\n",
       "    </tr>\n",
       "    <tr>\n",
       "      <td>26472</td>\n",
       "      <td>AUTOMOBILE THEFT</td>\n",
       "      <td>Minnehaha</td>\n",
       "      <td>-93.220297</td>\n",
       "      <td>44.909899</td>\n",
       "    </tr>\n",
       "    <tr>\n",
       "      <td>26473</td>\n",
       "      <td>THEFT FROM BUILDING</td>\n",
       "      <td>North Loop</td>\n",
       "      <td>-93.271887</td>\n",
       "      <td>44.984102</td>\n",
       "    </tr>\n",
       "  </tbody>\n",
       "</table>\n",
       "<p>26474 rows × 4 columns</p>\n",
       "</div>"
      ],
      "text/plain": [
       "                          description     neighborhood          X          Y\n",
       "0      OTHER THEFT                            Whittier -93.277816  44.961796\n",
       "1      THEFT FROM MOTR VEHC                Windom Park -93.230744  45.008673\n",
       "2      THEFT FROM MOTR VEHC            Ventura Village -93.258925  44.962711\n",
       "3      BIKE THEFT                           North Loop -93.273549  44.986948\n",
       "4      THEFT FROM MOTR VEHC                 Lowry Hill -93.290330  44.971990\n",
       "...                               ...              ...        ...        ...\n",
       "26469  THEFT-MOTR VEH PARTS            Powderhorn Park -93.257487  44.938648\n",
       "26470  OTHER THEFT                     Ventura Village -93.262563  44.960010\n",
       "26471  OTHER THEFT                               CARAG -93.290006  44.948363\n",
       "26472  AUTOMOBILE THEFT                      Minnehaha -93.220297  44.909899\n",
       "26473  THEFT FROM BUILDING                  North Loop -93.271887  44.984102\n",
       "\n",
       "[26474 rows x 4 columns]"
      ]
     },
     "execution_count": 6,
     "metadata": {},
     "output_type": "execute_result"
    }
   ],
   "source": [
    "# Katrina end\n",
    "#Create new dataframe with certain columns\n",
    "incidents_df = police_incidents_df[['description',\n",
    "                                    'neighborhood',\n",
    "                                    'X',\n",
    "                                    'Y']]\n",
    "incidents_df"
   ]
  },
  {
   "cell_type": "markdown",
   "metadata": {},
   "source": [
    "## transforming data"
   ]
  },
  {
   "cell_type": "code",
   "execution_count": null,
   "metadata": {},
   "outputs": [],
   "source": [
    "# Jenna start"
   ]
  },
  {
   "cell_type": "code",
   "execution_count": null,
   "metadata": {},
   "outputs": [],
   "source": [
    "# Jenna end"
   ]
  },
  {
   "cell_type": "code",
   "execution_count": null,
   "metadata": {},
   "outputs": [],
   "source": [
    "# Katrina start"
   ]
  },
  {
   "cell_type": "code",
   "execution_count": null,
   "metadata": {},
   "outputs": [],
   "source": [
    "# Katrina end"
   ]
  },
  {
   "cell_type": "markdown",
   "metadata": {},
   "source": [
    "## adding to postgres"
   ]
  },
  {
   "cell_type": "code",
   "execution_count": null,
   "metadata": {},
   "outputs": [],
   "source": [
    "# Stacy start"
   ]
  },
  {
   "cell_type": "code",
   "execution_count": null,
   "metadata": {},
   "outputs": [],
   "source": [
    "# Stacy end"
   ]
  }
 ],
 "metadata": {
  "kernelspec": {
   "display_name": "Python 3",
   "language": "python",
   "name": "python3"
  },
  "language_info": {
   "codemirror_mode": {
    "name": "ipython",
    "version": 3
   },
   "file_extension": ".py",
   "mimetype": "text/x-python",
   "name": "python",
   "nbconvert_exporter": "python",
   "pygments_lexer": "ipython3",
   "version": "3.7.4"
  }
 },
 "nbformat": 4,
 "nbformat_minor": 2
}
